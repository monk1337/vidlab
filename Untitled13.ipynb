{
  "nbformat": 4,
  "nbformat_minor": 0,
  "metadata": {
    "colab": {
      "name": "Untitled13.ipynb",
      "provenance": [],
      "collapsed_sections": []
    },
    "kernelspec": {
      "name": "python3",
      "display_name": "Python 3"
    },
    "language_info": {
      "name": "python"
    }
  },
  "cells": [
    {
      "cell_type": "code",
      "metadata": {
        "id": "WHgV9bt_mGcz"
      },
      "source": [
        "!git clone https://github.com/monk1337/vidlab.git\n",
        "!pip install -q git+https://github.com/tensorflow/docs"
      ],
      "execution_count": 1,
      "outputs": []
    },
    {
      "cell_type": "code",
      "metadata": {
        "id": "Ekm9I-VCvFdH"
      },
      "source": [
        "from features import get_features\n",
        "from model import run_experiment\n",
        "\n",
        "train_x, train_y, test_x, test_y, label_pr = get_features('all_data')\n",
        "model = run_experiment(train_x, train_y, test_x, test_y, label_pr, 6)"
      ],
      "execution_count": null,
      "outputs": []
    }
  ]
}